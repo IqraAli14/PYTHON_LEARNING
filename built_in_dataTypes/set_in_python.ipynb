{
  "nbformat": 4,
  "nbformat_minor": 0,
  "metadata": {
    "colab": {
      "provenance": []
    },
    "kernelspec": {
      "name": "python3",
      "display_name": "Python 3"
    },
    "language_info": {
      "name": "python"
    }
  },
  "cells": [
    {
      "cell_type": "markdown",
      "source": [
        "# set in python\n",
        "\n",
        "Introduction\n",
        "\n",
        "Sets are used to store multiple items in a single variable.\n",
        "\n",
        "One of Python's built-in collection types, along with List, Tuple, and Dictionary.\n",
        "\n",
        "Properties:\n",
        "\n",
        "Unordered\n",
        "\n",
        "Unchangeable (items cannot be modified but can be removed or added)\n",
        "\n",
        "Unindexed\n",
        "\n",
        "No duplicate values"
      ],
      "metadata": {
        "id": "g26F9lgh2RsZ"
      }
    },
    {
      "cell_type": "code",
      "execution_count": null,
      "metadata": {
        "id": "OhJvyuCw2L5O"
      },
      "outputs": [],
      "source": [
        "# example of creating a set\n",
        "\n",
        "myset = {\"apple\", \"banana\", \"cherry\"}\n",
        "print(myset)"
      ]
    },
    {
      "cell_type": "markdown",
      "source": [
        "# Choosing the Right Collection\n",
        "\n",
        "Use List when order matters and modification is needed.\n",
        "\n",
        "Use Tuple when order matters and data should remain constant.\n",
        "\n",
        "Use Set when uniqueness is required.\n",
        "\n",
        "Use Dictionary when key-value pairs are needed."
      ],
      "metadata": {
        "id": "K6WKiYnw6dE1"
      }
    },
    {
      "cell_type": "code",
      "source": [
        "# creating a set\n",
        "#  Note: Sets are unordered, so the output order may vary.\n",
        "my_set = {1, 2, 3, 4, 5}\n",
        "print(my_set)  # Output: {1, 2, 3, 4, 5}\n"
      ],
      "metadata": {
        "id": "-flekqyL4s80"
      },
      "execution_count": null,
      "outputs": []
    },
    {
      "cell_type": "code",
      "source": [
        "# adding and removing elements:\n",
        "\n",
        "my_set.add(6)  # Adding an element\n",
        "print(my_set)  # Output: {1, 2, 3, 4, 5, 6}\n",
        "\n",
        "my_set.remove(3)  # Removing an element\n",
        "print(my_set)  # Output: {1, 2, 4, 5, 6}\n",
        "\n",
        "my_set.discard(10)  # Does nothing if the element is not present\n",
        "\n",
        "# Tip: Use .discard() instead of .remove() if you're unsure whether the element exists (to avoid errors)."
      ],
      "metadata": {
        "id": "K30OanEi8dRc"
      },
      "execution_count": null,
      "outputs": []
    },
    {
      "cell_type": "code",
      "source": [
        "\n",
        "# no dublicate values:\n",
        "duplicates = {1, 2, 2, 3, 4, 4, 5}\n",
        "print(duplicates)  # Output: {1, 2, 3, 4, 5} (removes duplicates automatically)\n"
      ],
      "metadata": {
        "id": "fCe8q8UO8zVN"
      },
      "execution_count": null,
      "outputs": []
    },
    {
      "cell_type": "code",
      "source": [
        "# set operations:\n",
        "\n",
        "# Union (| or .union())\n",
        "A = {1, 2, 3}\n",
        "B = {3, 4, 5}\n",
        "print(A | B)  # Output: {1, 2, 3, 4, 5}\n"
      ],
      "metadata": {
        "colab": {
          "base_uri": "https://localhost:8080/"
        },
        "id": "375eatAx87ci",
        "outputId": "7c9b8956-b5b4-4797-836c-0cc10123ec74"
      },
      "execution_count": null,
      "outputs": [
        {
          "output_type": "stream",
          "name": "stdout",
          "text": [
            "{1, 2, 3, 4, 5}\n"
          ]
        }
      ]
    },
    {
      "cell_type": "code",
      "source": [
        "# Intersection (& or .intersection())\n",
        "print(A & B)  # Output: {3} (common elements)\n"
      ],
      "metadata": {
        "id": "AuNzO6iA9nCa"
      },
      "execution_count": null,
      "outputs": []
    },
    {
      "cell_type": "code",
      "source": [
        "# Difference (- or .difference())\n",
        "print(A - B)  # Output: {1, 2} (elements in A but not in B)\n"
      ],
      "metadata": {
        "id": "FRqTy1iP9rK4"
      },
      "execution_count": null,
      "outputs": []
    },
    {
      "cell_type": "code",
      "source": [
        "# Symmetric Difference (^ or .symmetric_difference())\n",
        "print(A ^ B)  # Output: {1, 2, 4, 5} (elements in either A or B, but not both)\n"
      ],
      "metadata": {
        "id": "hrsrX6tz-Eb_"
      },
      "execution_count": null,
      "outputs": []
    },
    {
      "cell_type": "code",
      "source": [
        "# checking membership:\n",
        "print(2 in A)  # Output: True\n",
        "print(10 in A) # Output: False\n"
      ],
      "metadata": {
        "id": "sayh9tYV-SHi"
      },
      "execution_count": null,
      "outputs": []
    },
    {
      "cell_type": "markdown",
      "source": [
        "Getting the Length of a Set\n",
        "\n",
        "Use len() function to determine the number of items."
      ],
      "metadata": {
        "id": "l8OJgzuI-r20"
      }
    },
    {
      "cell_type": "code",
      "source": [
        "thisset = {\"apple\", \"banana\", \"cherry\"}\n",
        "print(len(thisset))"
      ],
      "metadata": {
        "id": "d2uj49la-s3L"
      },
      "execution_count": null,
      "outputs": []
    },
    {
      "cell_type": "markdown",
      "source": [
        "Set Data Types\n",
        "\n",
        "A set can contain different data types.\n",
        "\n"
      ],
      "metadata": {
        "id": "Je3i8oTh-zWJ"
      }
    },
    {
      "cell_type": "code",
      "source": [
        "set1 = {\"apple\", \"banana\", \"cherry\"}\n",
        "set2 = {1, 5, 7, 9, 3}\n",
        "set3 = {True, False, False}\n",
        "set4 = {\"abc\", 34, True, 40, \"male\"}"
      ],
      "metadata": {
        "id": "PMw5Ovhx-3_C"
      },
      "execution_count": null,
      "outputs": []
    },
    {
      "cell_type": "markdown",
      "source": [
        "Checking the Data Type\n",
        "\n",
        "Sets are of type set in Python."
      ],
      "metadata": {
        "id": "x1evswYT_BdQ"
      }
    },
    {
      "cell_type": "code",
      "source": [
        "myset = {\"apple\", \"banana\", \"cherry\"}\n",
        "print(type(myset))"
      ],
      "metadata": {
        "id": "9RmdGCSn_HkR"
      },
      "execution_count": null,
      "outputs": []
    },
    {
      "cell_type": "markdown",
      "source": [
        "Creating a Set Using Constructor\n",
        "\n",
        "The set() function can be used to create a set."
      ],
      "metadata": {
        "id": "ukdjn4i1_eGH"
      }
    },
    {
      "cell_type": "code",
      "source": [
        "thisset = set((\"apple\", \"banana\", \"cherry\"))  # Double parentheses\n",
        "print(thisset)"
      ],
      "metadata": {
        "id": "3jpdNwG4_gQl"
      },
      "execution_count": null,
      "outputs": []
    },
    {
      "cell_type": "code",
      "source": [
        "# The values True and 1 are considered the same value in sets, and are treated as duplicates:\n",
        "thisset = {\"apple\", \"banana\", \"cherry\", True, 1, 2}\n",
        "\n",
        "print(thisset)\n"
      ],
      "metadata": {
        "colab": {
          "base_uri": "https://localhost:8080/"
        },
        "id": "bnpL0b6ZAyw6",
        "outputId": "355bdf32-8473-4b21-ffa5-3b86fb3883f9"
      },
      "execution_count": null,
      "outputs": [
        {
          "output_type": "stream",
          "name": "stdout",
          "text": [
            "{True, 2, 'apple', 'cherry', 'banana'}\n"
          ]
        }
      ]
    },
    {
      "cell_type": "markdown",
      "source": [
        "Sets are Unordered\n",
        "A fundamental characteristic of sets in Python is that they are unordered collections. This means that the order in which you add elements to a set is not necessarily the order in which they will be stored or displayed.\n",
        "\n",
        "Think of a set like a bag of items:\n",
        "\n",
        "You can put items into the bag in a specific order.\n",
        "However, when you reach into the bag to retrieve an item, you might not pull them out in the same order you put them in.\n",
        "Similarly, Python's internal implementation of sets doesn't guarantee preserving the insertion order. The elements are stored and retrieved in a way that's optimized for efficient operations like checking for membership or uniqueness."
      ],
      "metadata": {
        "id": "iizxKfdTBYtf"
      }
    },
    {
      "cell_type": "code",
      "source": [
        "#  The values False and 0 are considered the same value in sets, and are treated as duplicates:\n",
        "thisset = {\"apple\", \"banana\", \"cherry\", False, True, 0}\n",
        "\n",
        "print(thisset)"
      ],
      "metadata": {
        "id": "jcTBtwiUBsav"
      },
      "execution_count": null,
      "outputs": []
    }
  ]
}